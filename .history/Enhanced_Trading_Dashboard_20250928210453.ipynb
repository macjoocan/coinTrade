# Enhanced_Trading_Dashboard.ipynb

# Cell 1: 필요한 라이브러리 설치
"""
!pip install pyupbit
!pip install plotly
!pip install pandas
!pip install numpy
"""

# Cell 2: Import 및 초기 설정
import pyupbit
import pandas as pd
import numpy as np
import plotly.graph_objects as go
from plotly.subplots import make_subplots
import plotly.express as px
from datetime import datetime, timedelta
import time
from IPython.display import display, clear_output, HTML
import warnings
warnings.filterwarnings('ignore')

# 거래 대상 코인
TRADING_PAIRS = ['BTC', 'ETH', 'SOL', 'AVAX', 'MATIC']

# Cell 3: 데이터 수집 클래스
class MarketDataCollector:
    """시장 데이터 수집기"""
    
    def __init__(self, symbols):
        self.symbols = symbols
        self.data_cache = {}
        
    def get_current_prices(self):
        """현재 가격 조회"""
        prices = {}
        for symbol in self.symbols:
            ticker = f"KRW-{symbol}"
            price = pyupbit.get_current_price(ticker)
            prices[symbol] = price
        return pd.DataFrame([prices]).T.rename(columns={0: 'Price'})
    
    def get_24h_changes(self):
        """24시간 변동률"""
        changes = {}
        for symbol in self.symbols:
            ticker = f"KRW-{symbol}"
            df = pyupbit.get_ohlcv(ticker, interval="day", count=2)
            if len(df) >= 2:
                change = ((df['close'].iloc[-1] - df['close'].iloc[-2]) / 
                         df['close'].iloc[-2] * 100)
                changes[symbol] = change
        return pd.DataFrame([changes]).T.rename(columns={0: 'Change_24h'})
    
    def get_volume_data(self):
        """거래량 데이터"""
        volumes = {}
        for symbol in self.symbols:
            ticker = f"KRW-{symbol}"
            df = pyupbit.get_ohlcv(ticker, interval="minute60", count=24)
            if len(df) > 0:
                volumes[symbol] = {
                    'current': df['volume'].iloc[-1],
                    'average': df['volume'].mean(),
                    'ratio': df['volume'].iloc[-1] / df['volume'].mean()
                }
        return pd.DataFrame(volumes).T
    
    def get_technical_indicators(self, symbol):
        """기술적 지표"""
        ticker = f"KRW-{symbol}"
        df = pyupbit.get_ohlcv(ticker, interval="minute60", count=100)
        
        if len(df) >= 50:
            # RSI
            delta = df['close'].diff()
            gain = (delta.where(delta > 0, 0)).rolling(window=14).mean()
            loss = (-delta.where(delta < 0, 0)).rolling(window=14).mean()
            rs = gain / loss
            rsi = 100 - (100 / (1 + rs))
            
            # 이동평균
            df['MA20'] = df['close'].rolling(20).mean()
            df['MA50'] = df['close'].rolling(50).mean()
            
            # MACD
            df['EMA12'] = df['close'].ewm(span=12).mean()
            df['EMA26'] = df['close'].ewm(span=26).mean()
            df['MACD'] = df['EMA12'] - df['EMA26']
            df['Signal'] = df['MACD'].ewm(span=9).mean()
            
            # Bollinger Bands
            df['BB_middle'] = df['close'].rolling(20).mean()
            bb_std = df['close'].rolling(20).std()
            df['BB_upper'] = df['BB_middle'] + (bb_std * 2)
            df['BB_lower'] = df['BB_middle'] - (bb_std * 2)
            
            return {
                'RSI': rsi.iloc[-1],
                'MA20': df['MA20'].iloc[-1],
                'MA50': df['MA50'].iloc[-1],
                'MACD': df['MACD'].iloc[-1],
                'Signal': df['Signal'].iloc[-1],
                'BB_upper': df['BB_upper'].iloc[-1],
                'BB_lower': df['BB_lower'].iloc[-1],
                'Price': df['close'].iloc[-1]
            }
        return None

# Cell 4: 시각화 함수들
def create_price_chart(symbols):
    """가격 차트 생성"""
    fig = make_subplots(rows=1, cols=1, subplot_titles=("실시간 가격"))
    
    for symbol in symbols:
        ticker = f"KRW-{symbol}"
        df = pyupbit.get_ohlcv(ticker, interval="minute5", count=100)
        
        fig.add_trace(go.Scatter(
            x=df.index,
            y=df['close'],
            mode='lines',
            name=symbol,
            line=dict(width=2)
        ))
    
    fig.update_layout(
        height=400,
        title="실시간 가격 추이 (5분봉)",
        xaxis_title="시간",
        yaxis_title="가격 (KRW)",
        hovermode='x unified',
        template='plotly_dark'
    )
    
    return fig

def create_volume_heatmap(collector):
    """거래량 히트맵"""
    volume_data = []
    times = []
    
    for symbol in collector.symbols:
        ticker = f"KRW-{symbol}"
        df = pyupbit.get_ohlcv(ticker, interval="minute60", count=24)
        if len(df) > 0:
            volume_data.append(df['volume'].values)
            times = df.index.strftime('%H:%M').tolist()
    
    fig = go.Figure(data=go.Heatmap(
        z=volume_data,
        x=times,
        y=collector.symbols,
        colorscale='Viridis',
        text=volume_data,
        texttemplate="%{text:.2e}",
        textfont={"size": 8}
    ))
    
    fig.update_layout(
        title="24시간 거래량 히트맵",
        xaxis_title="시간",
        yaxis_title="코인",
        height=300,
        template='plotly_dark'
    )
    
    return fig

def create_rsi_gauge(symbol, rsi_value):
    """RSI 게이지 차트"""
    fig = go.Figure(go.Indicator(
        mode="gauge+number+delta",
        value=rsi_value,
        title={'text': f"{symbol} RSI"},
        domain={'x': [0, 1], 'y': [0, 1]},
        gauge={
            'axis': {'range': [0, 100], 'tickwidth': 1},
            'bar': {'color': "darkblue"},
            'steps': [
                {'range': [0, 30], 'color': "green"},
                {'range': [30, 70], 'color': "yellow"},
                {'range': [70, 100], 'color': "red"}
            ],
            'threshold': {
                'line': {'color': "white", 'width': 4},
                'thickness': 0.75,
                'value': rsi_value
            }
        }
    ))
    
    fig.update_layout(
        height=250,
        template='plotly_dark'
    )
    
    return fig

def create_correlation_matrix(symbols):
    """상관관계 매트릭스"""
    price_data = {}
    
    for symbol in symbols:
        ticker = f"KRW-{symbol}"
        df = pyupbit.get_ohlcv(ticker, interval="minute60", count=100)
        if len(df) > 0:
            price_data[symbol] = df['close'].pct_change().dropna()
    
    df_prices = pd.DataFrame(price_data)
    correlation = df_prices.corr()
    
    fig = go.Figure(data=go.Heatmap(
        z=correlation.values,
        x=correlation.columns,
        y=correlation.columns,
        colorscale='RdBu',
        zmid=0,
        text=correlation.values.round(2),
        texttemplate='%{text}',
        textfont={"size": 10},
        colorbar=dict(title="상관계수")
    ))
    
    fig.update_layout(
        title="코인 간 상관관계",
        height=400,
        template='plotly_dark'
    )
    
    return fig

def create_market_overview_table(collector):
    """시장 개요 테이블"""
    prices = collector.get_current_prices()
    changes = collector.get_24h_changes()
    volumes = collector.get_volume_data()
    
    # 데이터 결합
    overview = pd.concat([prices, changes, volumes[['ratio']]], axis=1)
    overview.columns = ['가격', '24h 변동률(%)', '거래량 비율']
    
    # 색상 설정
    overview['색상'] = overview['24h 변동률(%)'].apply(
        lambda x: '🟢' if x > 0 else '🔴' if x < 0 else '⚪'
    )
    
    # 포맷팅
    overview['가격'] = overview['가격'].apply(lambda x: f"{x:,.0f}")
    overview['24h 변동률(%)'] = overview['24h 변동률(%)'].apply(lambda x: f"{x:+.2f}%")
    overview['거래량 비율'] = overview['거래량 비율'].apply(lambda x: f"{x:.2f}x")
    
    # HTML 테이블 생성
    html_table = overview.to_html(classes='table table-dark table-striped')
    
    return HTML(f"""
    <style>
        .table {{
            color: white;
            background-color: #1a1a1a;
        }}
        .table-dark {{
            background-color: #1a1a1a;
        }}
    </style>
    {html_table}
    """)

# Cell 5: 실시간 대시보드
class LiveDashboard:
    """실시간 대시보드"""
    
    def __init__(self, symbols):
        self.collector = MarketDataCollector(symbols)
        self.running = False
        
    def create_dashboard(self):
        """대시보드 생성"""
        # 데이터 수집
        clear_output(wait=True)
        
        # 헤더
        print("="*100)
        print(f"📊 Upbit Trading Dashboard - {datetime.now().strftime('%Y-%m-%d %H:%M:%S')}")
        print("="*100)
        
        # 1. 시장 개요 테이블
        display(HTML("<h3>📈 시장 개요</h3>"))
        display(create_market_overview_table(self.collector))
        
        # 2. 가격 차트
        fig_price = create_price_chart(self.collector.symbols)
        display(fig_price)
        
        # 3. 거래량 히트맵
        fig_volume = create_volume_heatmap(self.collector)
        display(fig_volume)
        
        # 4. RSI 게이지 (3개씩 한 줄)
        rsi_figs = []
        for symbol in self.collector.symbols[:3]:
            indicators = self.collector.get_technical_indicators(symbol)
            if indicators:
                rsi_figs.append(create_rsi_gauge(symbol, indicators['RSI']))
        
        if rsi_figs:
            from plotly.subplots import make_subplots
            fig_rsi = make_subplots(
                rows=1, cols=3,
                subplot_titles=self.collector.symbols[:3],
                specs=[[{'type': 'indicator'}, {'type': 'indicator'}, {'type': 'indicator'}]]
            )
            
            for i, symbol in enumerate(self.collector.symbols[:3]):
                indicators = self.collector.get_technical_indicators(symbol)
                if indicators:
                    fig_rsi.add_trace(
                        go.Indicator(
                            mode="gauge+number",
                            value=indicators['RSI'],
                            gauge={'axis': {'range': [0, 100]}},
                            domain={'x': [i/3, (i+1)/3], 'y': [0, 1]}
                        ),
                        row=1, col=i+1
                    )
            
            fig_rsi.update_layout(height=250, template='plotly_dark', title="RSI 지표")
            display(fig_rsi)
        
        # 5. 상관관계 매트릭스
        fig_corr = create_correlation_matrix(self.collector.symbols)
        display(fig_corr)
        
        # 6. 추가 통계
        display(HTML("<h3>📊 추가 분석</h3>"))
        self.display_additional_stats()
    
    def display_additional_stats(self):
        """추가 통계 표시"""
        stats = []
        
        for symbol in self.collector.symbols:
            indicators = self.collector.get_technical_indicators(symbol)
            if indicators:
                trend = "상승" if indicators['MA20'] > indicators['MA50'] else "하락"
                signal = "매수" if indicators['RSI'] < 30 else "매도" if indicators['RSI'] > 70 else "중립"
                
                stats.append({
                    '코인': symbol,
                    '추세': trend,
                    'RSI 신호': signal,
                    'MACD': f"{indicators['MACD']:.2f}",
                    'BB 위치': self.get_bb_position(indicators)
                })
        
        df_stats = pd.DataFrame(stats)
        display(HTML(df_stats.to_html(index=False, classes='table table-dark')))
    
    def get_bb_position(self, indicators):
        """볼린저 밴드 위치"""
        price = indicators['Price']
        upper = indicators['BB_upper']
        lower = indicators['BB_lower']
        
        if price > upper:
            return "상단 돌파"
        elif price < lower:
            return "하단 돌파"
        else:
            position = (price - lower) / (upper - lower) * 100
            return f"중간 {position:.0f}%"
    
    def run(self, interval=30):
        """실시간 업데이트"""
        self.running = True
        try:
            while self.running:
                self.create_dashboard()
                time.sleep(interval)
        except KeyboardInterrupt:
            print("\n대시보드 중지")
            self.running = False

# Cell 6: 대시보드 실행
dashboard = LiveDashboard(TRADING_PAIRS)
dashboard.create_dashboard()  # 한 번 실행

# Cell 7: 실시간 업데이트 (선택사항)
# dashboard.run(interval=30)  # 30초마다 업데이트